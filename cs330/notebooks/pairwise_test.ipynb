{
 "cells": [
  {
   "cell_type": "markdown",
   "metadata": {},
   "source": [
    "# Testing Binary Structure Models on Multivariate Data\n",
    "\n",
    "Much of this notebook is adapted from notebooks/bivariate-categorical/03_meta_learning.ipynb"
   ]
  },
  {
   "cell_type": "code",
   "execution_count": 42,
   "metadata": {},
   "outputs": [],
   "source": [
    "import sys\n",
    "sys.path.insert(0, '../..')"
   ]
  },
  {
   "cell_type": "code",
   "execution_count": 43,
   "metadata": {},
   "outputs": [],
   "source": [
    "%matplotlib inline\n",
    "import numpy as np\n",
    "import matplotlib.pyplot as plt\n",
    "import torch\n",
    "from tqdm.notebook import trange as tnrange\n",
    "\n",
    "from cs330.data_generators.multivariate_categorical import MultiCategorical\n",
    "from cs330.data_generators.causal_graph import CausalGraph\n",
    "from cs330.models.augmented_binary_models import *\n",
    "from cs330.models.augmented_binary_model_trainer import *\n",
    "\n",
    "#from models import StructuralModel"
   ]
  },
  {
   "cell_type": "code",
   "execution_count": 44,
   "metadata": {},
   "outputs": [],
   "source": [
    "# Trial Setup\n",
    "if False:\n",
    "    TRIAL_ID = \"binary_with_confounder\"\n",
    "    N = 10\n",
    "    M = 3\n",
    "\n",
    "    # Create graph and data generator\n",
    "    data_gen = MultiCategorical(N, M)\n",
    "    data_gen.graph.B = np.array([\n",
    "        [0, 0, 0],\n",
    "        [1, 0, 0],\n",
    "        [1, 0, 0]\n",
    "    ])\n",
    "    # Determine node indices to compare\n",
    "    A = 1\n",
    "    B = 2\n",
    "\n",
    "if True:\n",
    "    TRIAL_ID = \"binary_with_collider\"\n",
    "    N = 10\n",
    "    M = 3\n",
    "\n",
    "    # Create graph and data generator\n",
    "    data_gen = MultiCategorical(N, M)\n",
    "    data_gen.graph.B = np.array([\n",
    "        [0, 0, 0],\n",
    "        [0, 0, 0],\n",
    "        [1, 1, 0]\n",
    "    ])\n",
    "    # Determine node indices to compare\n",
    "    A = 0\n",
    "    B = 1"
   ]
  },
  {
   "cell_type": "code",
   "execution_count": 45,
   "metadata": {},
   "outputs": [],
   "source": [
    "# Create Model\n",
    "# model = StructuralModel(N, dtype=torch.float64)\n",
    "model = CauseOnlyBinaryStructureModel(N, M, A, B)"
   ]
  },
  {
   "cell_type": "code",
   "execution_count": 46,
   "metadata": {},
   "outputs": [
    {
     "data": {
      "image/png": "[encoded data removed]",
      "text/plain": [
       "<Figure size 432x288 with 1 Axes>"
      ]
     },
     "metadata": {},
     "output_type": "display_data"
    }
   ],
   "source": [
    "# Save labeled graph image\n",
    "data_gen.graph.visualize(labels={A: \"A\", B: \"B\"})\n",
    "plt.savefig(f\"{TRIAL_ID}.graph.png\")"
   ]
  },
  {
   "cell_type": "code",
   "execution_count": null,
   "metadata": {},
   "outputs": [],
   "source": [
    "model_handler = AugmentedBinaryModelHandler(\n",
    "    data_gen, model,\n",
    "    inner_lr = 1e-1,\n",
    "    outer_lr = 1e-2,\n",
    "    transfer_episode_count = 500,\n",
    "    transfer_episode_gradient_steps = 20,\n",
    "    transfer_episode_batch_size = 50,\n",
    "    pretrain_episode_batch_size = 500\n",
    ")"
   ]
  },
  {
   "cell_type": "code",
   "execution_count": 48,
   "metadata": {},
   "outputs": [],
   "source": [
    "# Training constants\n",
    "num_runs = 4 # 10"
   ]
  },
  {
   "cell_type": "code",
   "execution_count": 49,
   "metadata": {},
   "outputs": [
    {
     "data": {
      "application/vnd.jupyter.widget-view+json": {
       "model_id": "39ddc84d5102448f91925ba838258afd",
       "version_major": 2,
       "version_minor": 0
      },
      "text/plain": [
       "  0%|          | 0/4 [00:00<?, ?it/s]"
      ]
     },
     "metadata": {},
     "output_type": "display_data"
    },
    {
     "data": {
      "application/vnd.jupyter.widget-view+json": {
       "model_id": "2cedb0109091473584ebf56de83732a3",
       "version_major": 2,
       "version_minor": 0
      },
      "text/plain": [
       "  0%|          | 0/1 [00:00<?, ?it/s]"
      ]
     },
     "metadata": {},
     "output_type": "display_data"
    },
    {
     "data": {
      "application/vnd.jupyter.widget-view+json": {
       "model_id": "68f08d62162244108e00cf69457ec8f7",
       "version_major": 2,
       "version_minor": 0
      },
      "text/plain": [
       "  0%|          | 0/500 [00:00<?, ?it/s]"
      ]
     },
     "metadata": {},
     "output_type": "display_data"
    },
    {
     "data": {
      "application/vnd.jupyter.widget-view+json": {
       "model_id": "2908e27e8b3540b6bec78160a6166ffa",
       "version_major": 2,
       "version_minor": 0
      },
      "text/plain": [
       "  0%|          | 0/1 [00:00<?, ?it/s]"
      ]
     },
     "metadata": {},
     "output_type": "display_data"
    },
    {
     "data": {
      "application/vnd.jupyter.widget-view+json": {
       "model_id": "5e7a815cd77040dc9acaae84da5835a6",
       "version_major": 2,
       "version_minor": 0
      },
      "text/plain": [
       "  0%|          | 0/500 [00:00<?, ?it/s]"
      ]
     },
     "metadata": {},
     "output_type": "display_data"
    },
    {
     "data": {
      "application/vnd.jupyter.widget-view+json": {
       "model_id": "6cffe7413fbc4d55b7eac62eaaea7683",
       "version_major": 2,
       "version_minor": 0
      },
      "text/plain": [
       "  0%|          | 0/1 [00:00<?, ?it/s]"
      ]
     },
     "metadata": {},
     "output_type": "display_data"
    },
    {
     "data": {
      "application/vnd.jupyter.widget-view+json": {
       "model_id": "5904879aef7949c98e2dbed78d1a88cf",
       "version_major": 2,
       "version_minor": 0
      },
      "text/plain": [
       "  0%|          | 0/500 [00:00<?, ?it/s]"
      ]
     },
     "metadata": {},
     "output_type": "display_data"
    },
    {
     "data": {
      "application/vnd.jupyter.widget-view+json": {
       "model_id": "0882ead2a10e420786fdb58db9adf04b",
       "version_major": 2,
       "version_minor": 0
      },
      "text/plain": [
       "  0%|          | 0/1 [00:00<?, ?it/s]"
      ]
     },
     "metadata": {},
     "output_type": "display_data"
    },
    {
     "data": {
      "application/vnd.jupyter.widget-view+json": {
       "model_id": "0d8f21c04a7845c6b5ce93a7dbf3925f",
       "version_major": 2,
       "version_minor": 0
      },
      "text/plain": [
       "  0%|          | 0/500 [00:00<?, ?it/s]"
      ]
     },
     "metadata": {},
     "output_type": "display_data"
    }
   ],
   "source": [
    "structure_likelihoods = torch.zeros((num_runs, model_handler.transfer_episode_count, model_handler.hypothesis_count()))\n",
    "\n",
    "for i in tnrange(num_runs):\n",
    "    # Step 1: Sample a joint distribution before intervention\n",
    "    data_gen.reset_all_distributions()\n",
    "\n",
    "    model_handler.reset()\n",
    "\n",
    "    # Step 1.5: Save samples to pretrain hypothesis models before each transfer training iteration\n",
    "    model_handler.pretrain_samples = data_gen.sample(pretrain_batch_size)\n",
    "\n",
    "    # Step 2: Train structure model over multiple transfer episodes\n",
    "    model_handler.train_structure()\n",
    "\n",
    "    # Update logs\n",
    "    structure_likelihoods[i, :, :] = model_handlers.structure_likelihoods"
   ]
  },
  {
   "cell_type": "code",
   "execution_count": 52,
   "metadata": {},
   "outputs": [
    {
     "data": {
      "image/png": "[encoded data removed]",
      "text/plain": [
       "<Figure size 648x360 with 1 Axes>"
      ]
     },
     "metadata": {
      "needs_background": "light"
     },
     "output_type": "display_data"
    }
   ],
   "source": [
    "hypothesis_curves = {}\n",
    "for i in range(model_handler.hypothesis_count()):\n",
    "    name = model_handler.structural_model.hypothesis_names()[i]\n",
    "    curves = structure_likelihoods[:, :, i]\n",
    "    hypothesis_curves[name] = curves\n",
    "\n",
    "fig = plt.figure(figsize=(9, 5))\n",
    "ax = plt.subplot(1, 1, 1)\n",
    "\n",
    "ax.tick_params(axis='both', which='major', labelsize=13)\n",
    "ax.axhline(1, c='lightgray', ls='--')\n",
    "ax.axhline(0, c='lightgray', ls='--')\n",
    "for name, curves in hypothesis_curves.items():\n",
    "    ax.plot(np.percentile(curves, 50, axis=0), lw=2, color='g', label=name)\n",
    "ax.legend()\n",
    "\n",
    "ax.set_xlim([0, num_transfer - 1])\n",
    "ax.set_xlabel('Number of episodes', fontsize=14)\n",
    "ax.set_ylabel(\"Hypothesis Likelihoods\", fontsize=14)\n",
    "\n",
    "plt.savefig(f\"{TRIAL_ID}_median_alphas.png\")\n",
    "plt.show()"
   ]
  },
  {
   "cell_type": "code",
   "execution_count": null,
   "metadata": {},
   "outputs": [],
   "source": []
  }
 ],
 "metadata": {
  "kernelspec": {
   "display_name": "Python 3",
   "language": "python",
   "name": "python3"
  },
  "language_info": {
   "codemirror_mode": {
    "name": "ipython",
    "version": 3
   },
   "file_extension": ".py",
   "mimetype": "text/x-python",
   "name": "python",
   "nbconvert_exporter": "python",
   "pygments_lexer": "ipython3",
   "version": "3.6.13"
  }
 },
 "nbformat": 4,
 "nbformat_minor": 2
}
