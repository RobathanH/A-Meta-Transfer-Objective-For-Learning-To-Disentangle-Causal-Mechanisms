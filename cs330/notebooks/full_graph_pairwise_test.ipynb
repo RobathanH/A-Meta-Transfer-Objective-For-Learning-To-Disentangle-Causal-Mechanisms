{
 "cells": [
  {
   "cell_type": "markdown",
   "metadata": {},
   "source": [
    "# Determining Causal Graph from Binary Structure Tests"
   ]
  },
  {
   "cell_type": "code",
   "execution_count": 30,
   "metadata": {},
   "outputs": [],
   "source": [
    "import sys\n",
    "sys.path.insert(0, '../..')"
   ]
  },
  {
   "cell_type": "code",
   "execution_count": 31,
   "metadata": {},
   "outputs": [],
   "source": [
    "%matplotlib inline\n",
    "import numpy as np\n",
    "import matplotlib.pyplot as plt\n",
    "import torch\n",
    "from tqdm.notebook import trange as tnrange\n",
    "import networkx as nx\n",
    "from networkx.drawing.nx_pydot import graphviz_layout\n",
    "\n",
    "from cs330.data_generators.multivariate_categorical import MultiCategorical\n",
    "from cs330.data_generators.causal_graph import CausalGraph\n",
    "from cs330.models.augmented_binary_models import *\n",
    "from cs330.models.augmented_binary_model_trainer import *"
   ]
  },
  {
   "cell_type": "code",
   "execution_count": 38,
   "metadata": {},
   "outputs": [
    {
     "data": {
      "image/png": "[encoded data removed]",
      "text/plain": [
       "<Figure size 432x288 with 1 Axes>"
      ]
     },
     "metadata": {},
     "output_type": "display_data"
    }
   ],
   "source": [
    "# Set up graph\n",
    "\n",
    "'''\n",
    "N = 10\n",
    "M = 3\n",
    "\n",
    "data_gen = MultiCategorical(N, M)\n",
    "data_gen.graph.B = np.array([\n",
    "    [0, 0, 0],\n",
    "    [1, 0, 0],\n",
    "    [1, 0, 0]\n",
    "])\n",
    "'''\n",
    "\n",
    "N = 10\n",
    "M = 2\n",
    "data_gen = MultiCategorical(N, M)\n",
    "data_gen.graph.B = np.array([\n",
    "    [0, 0],\n",
    "    [1, 0]\n",
    "])\n",
    "\n",
    "# Visualize\n",
    "data_gen.graph.visualize()"
   ]
  },
  {
   "cell_type": "code",
   "execution_count": 39,
   "metadata": {},
   "outputs": [],
   "source": [
    "# Choose model type to test pairwise binary connections\n",
    "\n",
    "BINARY_MODEL_TYPE = CauseOnlyBinaryStructureModel"
   ]
  },
  {
   "cell_type": "code",
   "execution_count": 40,
   "metadata": {},
   "outputs": [],
   "source": [
    "# Binary Test Training Constants\n",
    "INNER_LR = 1e-1\n",
    "OUTER_LR = 1e-2\n",
    "TRANSFER_EPISODE_COUNT = 500\n",
    "TRANSFER_EPISODE_GRADIENT_STEPS = 30\n",
    "TRANSFER_EPISODE_BATCH_SIZE = 250\n",
    "PRETRAIN_EPISODE_BATCH_SIZE = 500"
   ]
  },
  {
   "cell_type": "code",
   "execution_count": 41,
   "metadata": {},
   "outputs": [
    {
     "data": {
      "application/vnd.jupyter.widget-view+json": {
       "model_id": "8df7dc2e991d474a80a9581a6c4299a6",
       "version_major": 2,
       "version_minor": 0
      },
      "text/plain": [
       "  0%|          | 0/1 [00:00<?, ?it/s]"
      ]
     },
     "metadata": {},
     "output_type": "display_data"
    },
    {
     "data": {
      "application/vnd.jupyter.widget-view+json": {
       "model_id": "1363595605e546aa957a0e0a42fafa10",
       "version_major": 2,
       "version_minor": 0
      },
      "text/plain": [
       "  0%|          | 0/500 [00:00<?, ?it/s]"
      ]
     },
     "metadata": {},
     "output_type": "display_data"
    },
    {
     "name": "stderr",
     "output_type": "stream",
     "text": [
      "../../cs330/models/augmented_binary_models.py:276: UserWarning: To copy construct from a tensor, it is recommended to use sourceTensor.clone().detach() or sourceTensor.clone().detach().requires_grad_(True), rather than torch.tensor(sourceTensor).\n",
      "  weighted_hypothesis_online_logL = log_softmax_weights + hypothesis_online_log_likelihoods\n"
     ]
    }
   ],
   "source": [
    "# Iterate through all node pairs and save resulting predicted structures\n",
    "node_pairs = []\n",
    "for A in range(M - 1):\n",
    "    for B in range(A + 1, M):\n",
    "        node_pairs.append((A, B))\n",
    "\n",
    "structure_predictions = {}\n",
    "for i in tnrange(len(node_pairs)):\n",
    "    A, B = node_pairs[i]\n",
    "\n",
    "    model = BINARY_MODEL_TYPE(N, M, A, B)\n",
    "    model_handler = AugmentedBinaryModelTrainer(\n",
    "        data_gen, model,\n",
    "        inner_lr = INNER_LR,\n",
    "        outer_lr = OUTER_LR,\n",
    "        transfer_episode_count = TRANSFER_EPISODE_COUNT,\n",
    "        transfer_episode_gradient_steps = TRANSFER_EPISODE_GRADIENT_STEPS,\n",
    "        transfer_episode_batch_size = TRANSFER_EPISODE_BATCH_SIZE,\n",
    "        pretrain_episode_batch_size = PRETRAIN_EPISODE_BATCH_SIZE\n",
    "    )\n",
    "\n",
    "    # Meta-learn structure\n",
    "    model_handler.train_structure()\n",
    "\n",
    "    # Save resulting structure prediction\n",
    "    structure_predictions[(A, B)] = {\n",
    "        hypothesis: prob for hypothesis, prob in zip(model.hypotheses(), model.structure_likelihoods().tolist())\n",
    "    }"
   ]
  },
  {
   "cell_type": "code",
   "execution_count": 42,
   "metadata": {},
   "outputs": [
    {
     "data": {
      "text/plain": [
       "{(0, 1): {<Hypothesis.FORWARD_CAUSE: 1>: 0.7863295674324036,\n",
       "  <Hypothesis.BACKWARD_CAUSE: 2>: 0.21367044746875763}}"
      ]
     },
     "execution_count": 42,
     "metadata": {},
     "output_type": "execute_result"
    }
   ],
   "source": [
    "structure_predictions"
   ]
  },
  {
   "cell_type": "code",
   "execution_count": 43,
   "metadata": {},
   "outputs": [
    {
     "data": {
      "image/png": "[encoded data removed]",
      "text/plain": [
       "<Figure size 432x288 with 1 Axes>"
      ]
     },
     "metadata": {},
     "output_type": "display_data"
    }
   ],
   "source": [
    "# Visualize graph resulting from these predictions\n",
    "predicted_graph = nx.DiGraph()\n",
    "for (A, B), binary_structure in structure_predictions.items():\n",
    "    max_structure_prob = max(*binary_structure.values())\n",
    "    if binary_structure[Hypothesis.FORWARD_CAUSE] == max_structure_prob:\n",
    "        predicted_graph.add_edge(A, B, weight = round(binary_structure[Hypothesis.FORWARD_CAUSE], 2))\n",
    "    elif binary_structure[Hypothesis.BACKWARD_CAUSE] == max_structure_prob:\n",
    "        predicted_graph.add_edge(B, A, weight = round(binary_structure[Hypothesis.BACKWARD_CAUSE], 2))\n",
    "\n",
    "pos = graphviz_layout(predicted_graph, prog='dot')\n",
    "edge_labels = nx.get_edge_attributes(predicted_graph, 'weight')\n",
    "nx.draw(predicted_graph, with_labels = True, pos = pos)\n",
    "nx.draw_networkx_edge_labels(predicted_graph, pos, edge_labels = edge_labels)\n",
    "plt.show()"
   ]
  },
  {
   "cell_type": "code",
   "execution_count": null,
   "metadata": {},
   "outputs": [],
   "source": []
  }
 ],
 "metadata": {
  "interpreter": {
   "hash": "eb7920e3093183b727ed8516936ebf91c6c9837feb2019045bbbfcf824723b33"
  },
  "kernelspec": {
   "display_name": "Python 3.6.13 64-bit ('cs330': conda)",
   "language": "python",
   "name": "python3"
  },
  "language_info": {
   "codemirror_mode": {
    "name": "ipython",
    "version": 3
   },
   "file_extension": ".py",
   "mimetype": "text/x-python",
   "name": "python",
   "nbconvert_exporter": "python",
   "pygments_lexer": "ipython3",
   "version": "3.6.13"
  },
  "orig_nbformat": 4
 },
 "nbformat": 4,
 "nbformat_minor": 2
}
